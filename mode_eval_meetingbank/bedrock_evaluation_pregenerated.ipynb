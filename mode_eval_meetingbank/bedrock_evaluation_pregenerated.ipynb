{
 "cells": [
  {
   "cell_type": "markdown",
   "metadata": {},
   "source": [
    "# Evaluating Pre-generated Model Responses on MeetingBank Dataset\n",
    "\n",
    "This notebook demonstrates how to evaluate pre-generated model responses (including non-Bedrock models like Gemini Flash) on the MeetingBank dataset for meeting summarization tasks."
   ]
  },
  {
   "cell_type": "code",
   "execution_count": 1,
   "metadata": {},
   "outputs": [],
   "source": [
    "# Import required libraries\n",
    "%load_ext autoreload\n",
    "%autoreload 2\n",
    "import os\n",
    "import json\n",
    "import pandas as pd\n",
    "import matplotlib.pyplot as plt\n",
    "import boto3\n",
    "from datetime import datetime\n",
    "\n",
    "# Import utility functions\n",
    "from utils.dataset_utils import load_meetingbank_dataset, get_test_samples, prepare_for_bedrock_evaluation, load_evaluation_dataset\n",
    "from utils.bedrock_utils import (\n",
    "    create_s3_bucket_if_not_exists,\n",
    "    apply_cors_if_not_exists,\n",
    "    upload_to_s3,\n",
    "    create_evaluation_job,\n",
    "    wait_for_job_completion,\n",
    "    download_evaluation_results,\n",
    "    analyze_evaluation_results,\n",
    "    visualize_evaluation_results,\n",
    "    generate_model_responses\n",
    ")"
   ]
  },
  {
   "cell_type": "code",
   "execution_count": null,
   "metadata": {},
   "outputs": [
    {
     "name": "stdout",
     "output_type": "stream",
     "text": [
      "Using Vertex AI with project: genai-test-gili in location: global\n"
     ]
    }
   ],
   "source": [
    "import sys\n",
    "\n",
    "if \"google.colab\" in sys.modules:\n",
    "    from google.colab import auth\n",
    "\n",
    "    auth.authenticate_user()\n",
    "\n",
    "import os\n",
    "from google import genai\n",
    "\n",
    "client = genai.Client(vertexai=True, project='genai-test-gili', location=LOCATION)\n",
    "\n",
    "from IPython.display import HTML, Markdown, display\n",
    "from google import genai\n",
    "from google.genai.types import (\n",
    "    FunctionDeclaration,\n",
    "    GenerateContentConfig,\n",
    "    GoogleSearch,\n",
    "    HarmBlockThreshold,\n",
    "    HarmCategory,\n",
    "    MediaResolution,\n",
    "    Part,\n",
    "    Retrieval,\n",
    "    SafetySetting,\n",
    "    Tool,\n",
    "    ToolCodeExecution,\n",
    "    VertexAISearch,\n",
    ")\n",
    "     \n",
    "\n",
    "import os\n",
    "\n",
    "PROJECT_ID = \"genai-test-gili\"  # @param {type: \"string\", placeholder: \"[your-project-id]\", isTemplate: true}\n",
    "if not PROJECT_ID or PROJECT_ID == \"[your-project-id]\":\n",
    "    PROJECT_ID = str(os.environ.get(\"GOOGLE_CLOUD_PROJECT\"))\n",
    "\n",
    "LOCATION = os.environ.get(\"GOOGLE_CLOUD_REGION\", \"global\")\n",
    "\n",
    "client = genai.Client(vertexai=True, project=PROJECT_ID, location=LOCATION)\n",
    "\n",
    "if not client.vertexai:\n",
    "    print(\"Using Gemini Developer API.\")\n",
    "elif client._api_client.project:\n",
    "    print(\n",
    "        f\"Using Vertex AI with project: {client._api_client.project} in location: {client._api_client.location}\"\n",
    "    )\n",
    "elif client._api_client.api_key:\n",
    "    print(\n",
    "        f\"Using Vertex AI in express mode with API key: {client._api_client.api_key[:5]}...{client._api_client.api_key[-5:]}\"\n",
    "    )\n",
    "\n",
    "MODEL_ID = \"gemini-2.0-flash\"  # @param {type: \"string\"}\n",
    "\n",
    "system_instruction = \"You are an expert meeting summarizer.\"\n",
    "response = client.models.generate_content(\n",
    "    model=MODEL_ID, contents=\"What's the largest planet in our solar system?\"\n",
    "    config=GenerateContentConfig(\n",
    "        temperature=0,\n",
    "        top_p=0.7,\n",
    "        candidate_count=1,\n",
    "        seed=0,\n",
    "        max_output_tokens=2048,\n",
    "        system_instruction=system_instruction\n",
    "    ),\n",
    ")\n",
    "\n",
    "display(Markdown(response.text))"
   ]
  },
  {
   "cell_type": "markdown",
   "metadata": {},
   "source": [
    "## 1. Configure AWS Credentials\n",
    "\n",
    "Make sure you have AWS credentials configured with appropriate permissions for Amazon Bedrock and S3."
   ]
  },
  {
   "cell_type": "code",
   "execution_count": 2,
   "metadata": {},
   "outputs": [
    {
     "name": "stderr",
     "output_type": "stream",
     "text": [
      "INFO:botocore.credentials:Found credentials in shared credentials file: ~/.aws/credentials\n"
     ]
    },
    {
     "name": "stdout",
     "output_type": "stream",
     "text": [
      "AWS Identity verified: arn:aws:sts::864016358360:assumed-role/Admin/gili-Isengard\n"
     ]
    }
   ],
   "source": [
    "# Set AWS region\n",
    "region = \"us-east-1\"  # Change to your preferred region where Bedrock is available\n",
    "BEDROCK_ROLE_ARN = \"arn:aws:iam::864016358360:role/service-role/Amazon-Bedrock-IAM-Role-20250531T202875\"\n",
    "bucket_name = 'eval-datasets-us-east-1'\n",
    "NUM_SAMPLES_PER_EVAL = 10  # Reduced for demonstration\n",
    "\n",
    "# Set IAM role ARN with permissions for Bedrock evaluation\n",
    "os.environ[\"BEDROCK_ROLE_ARN\"] = BEDROCK_ROLE_ARN\n",
    "\n",
    "# Verify AWS credentials\n",
    "try:\n",
    "    sts = boto3.client('sts')\n",
    "    identity = sts.get_caller_identity()\n",
    "    print(f\"AWS Identity verified: {identity['Arn']}\")\n",
    "except Exception as e:\n",
    "    print(f\"Error verifying AWS credentials: {e}\")\n",
    "    raise"
   ]
  },
  {
   "cell_type": "markdown",
   "metadata": {},
   "source": [
    "## 2. Load MeetingBank Dataset and Prepare for Evaluation"
   ]
  },
  {
   "cell_type": "code",
   "execution_count": 4,
   "metadata": {},
   "outputs": [
    {
     "name": "stdout",
     "output_type": "stream",
     "text": [
      "Dataset structure: DatasetDict({\n",
      "    train: Dataset({\n",
      "        features: ['summary', 'uid', 'id', 'transcript'],\n",
      "        num_rows: 5169\n",
      "    })\n",
      "    validation: Dataset({\n",
      "        features: ['summary', 'uid', 'id', 'transcript'],\n",
      "        num_rows: 861\n",
      "    })\n",
      "    test: Dataset({\n",
      "        features: ['summary', 'uid', 'id', 'transcript'],\n",
      "        num_rows: 862\n",
      "    })\n",
      "})\n",
      "Available splits: dict_keys(['train', 'validation', 'test'])\n",
      "Number of test samples: 10\n",
      "Evaluation dataset created at: ./data/bedrock_evaluation_dataset.jsonl\n"
     ]
    }
   ],
   "source": [
    "# Load the dataset\n",
    "dataset = load_meetingbank_dataset()\n",
    "print(f\"Dataset structure: {dataset}\")\n",
    "print(f\"Available splits: {dataset.keys()}\")\n",
    "\n",
    "# Get samples from the test set\n",
    "test_samples = get_test_samples(dataset, num_samples=NUM_SAMPLES_PER_EVAL)\n",
    "print(f\"Number of test samples: {len(test_samples)}\")\n",
    "\n",
    "# Prepare the dataset for Bedrock evaluation with empty modelResponses field\n",
    "evaluation_dataset_path = prepare_for_bedrock_evaluation(test_samples, include_model_responses=True)\n",
    "print(f\"Evaluation dataset created at: {evaluation_dataset_path}\")"
   ]
  },
  {
   "cell_type": "markdown",
   "metadata": {},
   "source": [
    "## 3. Generate Model Responses\n",
    "\n",
    "Here we'll use the Converse API to generate responses from different models."
   ]
  },
  {
   "cell_type": "code",
   "execution_count": 6,
   "metadata": {},
   "outputs": [
    {
     "name": "stderr",
     "output_type": "stream",
     "text": [
      "INFO:utils.bedrock_utils:Generating responses for model claude-3-haiku\n",
      "INFO:utils.bedrock_utils:Processing prompt 1/10 for model claude-3-haiku\n",
      "INFO:utils.bedrock_utils:Generating response with model us.anthropic.claude-3-haiku-20240307-v1:0\n",
      "INFO:utils.bedrock_utils:Input tokens: 1430\n",
      "INFO:utils.bedrock_utils:Output tokens: 286\n",
      "INFO:utils.bedrock_utils:Total tokens: 1716\n",
      "INFO:utils.bedrock_utils:Stop reason: end_turn\n",
      "INFO:utils.bedrock_utils:Processing prompt 2/10 for model claude-3-haiku\n",
      "INFO:utils.bedrock_utils:Generating response with model us.anthropic.claude-3-haiku-20240307-v1:0\n",
      "INFO:utils.bedrock_utils:Input tokens: 727\n",
      "INFO:utils.bedrock_utils:Output tokens: 210\n",
      "INFO:utils.bedrock_utils:Total tokens: 937\n",
      "INFO:utils.bedrock_utils:Stop reason: end_turn\n",
      "INFO:utils.bedrock_utils:Processing prompt 3/10 for model claude-3-haiku\n",
      "INFO:utils.bedrock_utils:Generating response with model us.anthropic.claude-3-haiku-20240307-v1:0\n",
      "INFO:utils.bedrock_utils:Input tokens: 358\n",
      "INFO:utils.bedrock_utils:Output tokens: 191\n",
      "INFO:utils.bedrock_utils:Total tokens: 549\n",
      "INFO:utils.bedrock_utils:Stop reason: end_turn\n",
      "INFO:utils.bedrock_utils:Processing prompt 4/10 for model claude-3-haiku\n",
      "INFO:utils.bedrock_utils:Generating response with model us.anthropic.claude-3-haiku-20240307-v1:0\n",
      "INFO:utils.bedrock_utils:Input tokens: 8518\n",
      "INFO:utils.bedrock_utils:Output tokens: 293\n",
      "INFO:utils.bedrock_utils:Total tokens: 8811\n",
      "INFO:utils.bedrock_utils:Stop reason: end_turn\n",
      "INFO:utils.bedrock_utils:Processing prompt 5/10 for model claude-3-haiku\n",
      "INFO:utils.bedrock_utils:Generating response with model us.anthropic.claude-3-haiku-20240307-v1:0\n",
      "INFO:utils.bedrock_utils:Input tokens: 1156\n",
      "INFO:utils.bedrock_utils:Output tokens: 278\n",
      "INFO:utils.bedrock_utils:Total tokens: 1434\n",
      "INFO:utils.bedrock_utils:Stop reason: end_turn\n",
      "INFO:utils.bedrock_utils:Processing prompt 6/10 for model claude-3-haiku\n",
      "INFO:utils.bedrock_utils:Generating response with model us.anthropic.claude-3-haiku-20240307-v1:0\n",
      "INFO:utils.bedrock_utils:Input tokens: 777\n",
      "INFO:utils.bedrock_utils:Output tokens: 237\n",
      "INFO:utils.bedrock_utils:Total tokens: 1014\n",
      "INFO:utils.bedrock_utils:Stop reason: end_turn\n",
      "INFO:utils.bedrock_utils:Processing prompt 7/10 for model claude-3-haiku\n",
      "INFO:utils.bedrock_utils:Generating response with model us.anthropic.claude-3-haiku-20240307-v1:0\n",
      "INFO:utils.bedrock_utils:Input tokens: 947\n",
      "INFO:utils.bedrock_utils:Output tokens: 266\n",
      "INFO:utils.bedrock_utils:Total tokens: 1213\n",
      "INFO:utils.bedrock_utils:Stop reason: end_turn\n",
      "INFO:utils.bedrock_utils:Processing prompt 8/10 for model claude-3-haiku\n",
      "INFO:utils.bedrock_utils:Generating response with model us.anthropic.claude-3-haiku-20240307-v1:0\n",
      "INFO:utils.bedrock_utils:Input tokens: 1315\n",
      "INFO:utils.bedrock_utils:Output tokens: 274\n",
      "INFO:utils.bedrock_utils:Total tokens: 1589\n",
      "INFO:utils.bedrock_utils:Stop reason: end_turn\n",
      "INFO:utils.bedrock_utils:Processing prompt 9/10 for model claude-3-haiku\n",
      "INFO:utils.bedrock_utils:Generating response with model us.anthropic.claude-3-haiku-20240307-v1:0\n",
      "INFO:utils.bedrock_utils:Input tokens: 648\n",
      "INFO:utils.bedrock_utils:Output tokens: 207\n",
      "INFO:utils.bedrock_utils:Total tokens: 855\n",
      "INFO:utils.bedrock_utils:Stop reason: end_turn\n",
      "INFO:utils.bedrock_utils:Processing prompt 10/10 for model claude-3-haiku\n",
      "INFO:utils.bedrock_utils:Generating response with model us.anthropic.claude-3-haiku-20240307-v1:0\n",
      "INFO:utils.bedrock_utils:Input tokens: 393\n",
      "INFO:utils.bedrock_utils:Output tokens: 216\n",
      "INFO:utils.bedrock_utils:Total tokens: 609\n",
      "INFO:utils.bedrock_utils:Stop reason: end_turn\n",
      "INFO:utils.bedrock_utils:Dataset with claude-3-haiku responses saved to ./data/bedrock_evaluation_dataset_claude-3-haiku.jsonl\n",
      "INFO:utils.bedrock_utils:Generating responses for model nova-lite\n",
      "INFO:utils.bedrock_utils:Processing prompt 1/10 for model nova-lite\n",
      "INFO:utils.bedrock_utils:Generating response with model us.amazon.nova-lite-v1:0\n",
      "INFO:utils.bedrock_utils:Input tokens: 1358\n",
      "INFO:utils.bedrock_utils:Output tokens: 166\n",
      "INFO:utils.bedrock_utils:Total tokens: 1524\n",
      "INFO:utils.bedrock_utils:Stop reason: end_turn\n",
      "INFO:utils.bedrock_utils:Processing prompt 2/10 for model nova-lite\n",
      "INFO:utils.bedrock_utils:Generating response with model us.amazon.nova-lite-v1:0\n",
      "INFO:utils.bedrock_utils:Input tokens: 630\n",
      "INFO:utils.bedrock_utils:Output tokens: 130\n",
      "INFO:utils.bedrock_utils:Total tokens: 760\n",
      "INFO:utils.bedrock_utils:Stop reason: end_turn\n",
      "INFO:utils.bedrock_utils:Processing prompt 3/10 for model nova-lite\n",
      "INFO:utils.bedrock_utils:Generating response with model us.amazon.nova-lite-v1:0\n",
      "INFO:utils.bedrock_utils:Input tokens: 419\n",
      "INFO:utils.bedrock_utils:Output tokens: 187\n",
      "INFO:utils.bedrock_utils:Total tokens: 606\n",
      "INFO:utils.bedrock_utils:Stop reason: end_turn\n",
      "INFO:utils.bedrock_utils:Processing prompt 4/10 for model nova-lite\n",
      "INFO:utils.bedrock_utils:Generating response with model us.amazon.nova-lite-v1:0\n",
      "INFO:utils.bedrock_utils:Input tokens: 8391\n",
      "INFO:utils.bedrock_utils:Output tokens: 544\n",
      "INFO:utils.bedrock_utils:Total tokens: 8935\n",
      "INFO:utils.bedrock_utils:Stop reason: end_turn\n",
      "INFO:utils.bedrock_utils:Processing prompt 5/10 for model nova-lite\n",
      "INFO:utils.bedrock_utils:Generating response with model us.amazon.nova-lite-v1:0\n",
      "INFO:utils.bedrock_utils:Input tokens: 1076\n",
      "INFO:utils.bedrock_utils:Output tokens: 353\n",
      "INFO:utils.bedrock_utils:Total tokens: 1429\n",
      "INFO:utils.bedrock_utils:Stop reason: end_turn\n",
      "INFO:utils.bedrock_utils:Processing prompt 6/10 for model nova-lite\n",
      "INFO:utils.bedrock_utils:Generating response with model us.amazon.nova-lite-v1:0\n",
      "INFO:utils.bedrock_utils:Input tokens: 740\n",
      "INFO:utils.bedrock_utils:Output tokens: 130\n",
      "INFO:utils.bedrock_utils:Total tokens: 870\n",
      "INFO:utils.bedrock_utils:Stop reason: end_turn\n",
      "INFO:utils.bedrock_utils:Processing prompt 7/10 for model nova-lite\n",
      "INFO:utils.bedrock_utils:Generating response with model us.amazon.nova-lite-v1:0\n",
      "INFO:utils.bedrock_utils:Input tokens: 922\n",
      "INFO:utils.bedrock_utils:Output tokens: 176\n",
      "INFO:utils.bedrock_utils:Total tokens: 1098\n",
      "INFO:utils.bedrock_utils:Stop reason: end_turn\n",
      "INFO:utils.bedrock_utils:Processing prompt 8/10 for model nova-lite\n",
      "INFO:utils.bedrock_utils:Generating response with model us.amazon.nova-lite-v1:0\n",
      "INFO:utils.bedrock_utils:Input tokens: 1297\n",
      "INFO:utils.bedrock_utils:Output tokens: 220\n",
      "INFO:utils.bedrock_utils:Total tokens: 1517\n",
      "INFO:utils.bedrock_utils:Stop reason: end_turn\n",
      "INFO:utils.bedrock_utils:Processing prompt 9/10 for model nova-lite\n",
      "INFO:utils.bedrock_utils:Generating response with model us.amazon.nova-lite-v1:0\n",
      "INFO:utils.bedrock_utils:Input tokens: 634\n",
      "INFO:utils.bedrock_utils:Output tokens: 153\n",
      "INFO:utils.bedrock_utils:Total tokens: 787\n",
      "INFO:utils.bedrock_utils:Stop reason: end_turn\n",
      "INFO:utils.bedrock_utils:Processing prompt 10/10 for model nova-lite\n",
      "INFO:utils.bedrock_utils:Generating response with model us.amazon.nova-lite-v1:0\n",
      "INFO:utils.bedrock_utils:Input tokens: 370\n",
      "INFO:utils.bedrock_utils:Output tokens: 168\n",
      "INFO:utils.bedrock_utils:Total tokens: 538\n",
      "INFO:utils.bedrock_utils:Stop reason: end_turn\n",
      "INFO:utils.bedrock_utils:Dataset with nova-lite responses saved to ./data/bedrock_evaluation_dataset_nova-lite.jsonl\n"
     ]
    },
    {
     "name": "stdout",
     "output_type": "stream",
     "text": [
      "Datasets with model responses saved to:\n",
      "  - claude-3-haiku: ./data/bedrock_evaluation_dataset_claude-3-haiku.jsonl\n",
      "  - nova-lite: ./data/bedrock_evaluation_dataset_nova-lite.jsonl\n"
     ]
    }
   ],
   "source": [
    "# Define the models to use\n",
    "models = [\n",
    "    {\n",
    "        \"name\": \"claude-3-haiku\",\n",
    "        \"model_id\": \"us.anthropic.claude-3-haiku-20240307-v1:0\"\n",
    "    },\n",
    "    {\n",
    "        \"name\": \"nova-lite\",\n",
    "        \"model_id\": \"us.amazon.nova-lite-v1:0\"\n",
    "    }\n",
    "    # Add other models as needed\n",
    "    # For non-Bedrock models like Gemini Flash, you would need to implement a separate function\n",
    "    # to call their respective APIs and then format the responses in the same structure\n",
    "]\n",
    "\n",
    "# Optional system prompt for summarization\n",
    "system_prompt = \"You are an expert meeting summarizer.\"\n",
    "\n",
    "# Generate responses (creates separate files for each model)\n",
    "model_dataset_paths = generate_model_responses(\n",
    "    dataset_path=evaluation_dataset_path,\n",
    "    models=models,\n",
    "    system_prompt=system_prompt,\n",
    "    region=region\n",
    ")\n",
    "\n",
    "print(f\"Datasets with model responses saved to:\")\n",
    "for model_name, path in model_dataset_paths.items():\n",
    "    print(f\"  - {model_name}: {path}\")"
   ]
  },
  {
   "cell_type": "markdown",
   "metadata": {},
   "source": [
    "## 4. Upload Dataset with Responses to S3"
   ]
  },
  {
   "cell_type": "code",
   "execution_count": 7,
   "metadata": {},
   "outputs": [
    {
     "name": "stdout",
     "output_type": "stream",
     "text": [
      "Bucket eval-datasets-us-east-1 already exists\n",
      "CORS configuration already exists for bucket eval-datasets-us-east-1\n",
      "Dataset for claude-3-haiku uploaded to: s3://eval-datasets-us-east-1/evaluation/meetingbank_dataset_claude-3-haiku_20250602180648.jsonl\n",
      "Dataset for nova-lite uploaded to: s3://eval-datasets-us-east-1/evaluation/meetingbank_dataset_nova-lite_20250602180648.jsonl\n",
      "Results will be stored at: s3://eval-datasets-us-east-1/evaluation/results/\n"
     ]
    }
   ],
   "source": [
    "create_s3_bucket_if_not_exists(bucket_name, region)\n",
    "apply_cors_if_not_exists(bucket_name, region)\n",
    "\n",
    "# Upload the evaluation datasets with responses to S3\n",
    "timestamp = datetime.now().strftime('%Y%m%d%H%M%S')\n",
    "dataset_s3_uris = {}\n",
    "\n",
    "for model_name, dataset_path in model_dataset_paths.items():\n",
    "    dataset_s3_key = f\"evaluation/meetingbank_dataset_{model_name}_{timestamp}.jsonl\"\n",
    "    dataset_s3_uri = upload_to_s3(dataset_path, bucket_name, dataset_s3_key, region)\n",
    "    dataset_s3_uris[model_name] = dataset_s3_uri\n",
    "    print(f\"Dataset for {model_name} uploaded to: {dataset_s3_uri}\")\n",
    "\n",
    "# Define the output location in S3\n",
    "output_s3_uri = f\"s3://{bucket_name}/evaluation/results/\"\n",
    "print(f\"Results will be stored at: {output_s3_uri}\")"
   ]
  },
  {
   "cell_type": "markdown",
   "metadata": {},
   "source": [
    "## 5. Create and Run Bedrock Evaluation Job with Pre-generated Responses"
   ]
  },
  {
   "cell_type": "code",
   "execution_count": 10,
   "metadata": {},
   "outputs": [
    {
     "name": "stdout",
     "output_type": "stream",
     "text": [
      "Creating evaluation job for claude-3-haiku...\n",
      "Evaluation job for claude-3-haiku created with ARN: arn:aws:bedrock:us-east-1:864016358360:evaluation-job/wuk6fp3hd4k2\n",
      "Creating evaluation job for nova-lite...\n",
      "Evaluation job for nova-lite created with ARN: arn:aws:bedrock:us-east-1:864016358360:evaluation-job/p5fwdy446g3n\n"
     ]
    }
   ],
   "source": [
    "# Create evaluation jobs for each model\n",
    "job_arns = {}\n",
    "\n",
    "for model_name, dataset_s3_uri in dataset_s3_uris.items():\n",
    "    # Create a unique job name for this model\n",
    "    job_name = f\"meetingbank-{model_name}-{timestamp}\"\n",
    "    \n",
    "    print(f\"Creating evaluation job for {model_name}...\")\n",
    "    try:\n",
    "        job_arn = create_evaluation_job(\n",
    "            job_name=job_name,\n",
    "            dataset_s3_uri=dataset_s3_uri,\n",
    "            output_s3_uri=output_s3_uri,\n",
    "            use_pregenerated_responses=True,\n",
    "            model_id=model_name,\n",
    "            region=region\n",
    "        )\n",
    "        job_arns[model_name] = job_arn\n",
    "        print(f\"Evaluation job for {model_name} created with ARN: {job_arn}\")\n",
    "    except Exception as e:\n",
    "        print(f\"Error creating evaluation job for {model_name}: {e}\")"
   ]
  },
  {
   "cell_type": "code",
   "execution_count": 11,
   "metadata": {},
   "outputs": [
    {
     "name": "stdout",
     "output_type": "stream",
     "text": [
      "Waiting for claude-3-haiku evaluation job to complete...\n",
      "Job status: InProgress. Waiting 60 seconds...\n",
      "Job status: InProgress. Waiting 60 seconds...\n",
      "Job status: InProgress. Waiting 60 seconds...\n",
      "Job status: InProgress. Waiting 60 seconds...\n",
      "Job status: InProgress. Waiting 60 seconds...\n",
      "Job status: InProgress. Waiting 60 seconds...\n",
      "Job status: InProgress. Waiting 60 seconds...\n",
      "Job status: InProgress. Waiting 60 seconds...\n",
      "Job status: InProgress. Waiting 60 seconds...\n",
      "Job status: InProgress. Waiting 60 seconds...\n",
      "Job status: InProgress. Waiting 60 seconds...\n",
      "Job for claude-3-haiku completed with status: Completed\n",
      "Waiting for nova-lite evaluation job to complete...\n",
      "Job for nova-lite completed with status: Completed\n"
     ]
    }
   ],
   "source": [
    "# Wait for all jobs to complete\n",
    "job_details = {}\n",
    "\n",
    "for model_name, job_arn in job_arns.items():\n",
    "    print(f\"Waiting for {model_name} evaluation job to complete...\")\n",
    "    try:\n",
    "        details = wait_for_job_completion(job_arn, region)\n",
    "        job_details[model_name] = details\n",
    "        print(f\"Job for {model_name} completed with status: {details['status']}\")\n",
    "    except Exception as e:\n",
    "        print(f\"Error waiting for {model_name} job: {e}\")"
   ]
  },
  {
   "cell_type": "markdown",
   "metadata": {},
   "source": [
    "## 6. Download and Analyze Results"
   ]
  },
  {
   "cell_type": "code",
   "execution_count": null,
   "metadata": {},
   "outputs": [],
   "source": [
    "results_dir = './results'\n",
    "os.makedirs(results_dir, exist_ok=True)\n",
    "\n",
    "# Download results for each model\n",
    "for model_name, job_details in job_details.items():\n",
    "    job_name = job_details.get('jobName', f\"meetingbank-{model_name}-{timestamp}\")\n",
    "    results_local_path = f'{results_dir}/{job_name}'\n",
    "    \n",
    "    # Download the evaluation results\n",
    "    results_base_dir_s3 = f\"{output_s3_uri}/{job_name}/\"\n",
    "    print(f\"Downloading results for {model_name} from {results_base_dir_s3}\")\n",
    "    \n",
    "    try:\n",
    "        download_evaluation_results(results_base_dir_s3, results_local_path, region)\n",
    "        print(f\"Results for {model_name} downloaded to: {results_local_path}\")\n",
    "    except Exception as e:\n",
    "        print(f\"Error downloading results for {model_name}: {e}\")"
   ]
  },
  {
   "cell_type": "code",
   "execution_count": null,
   "metadata": {},
   "outputs": [],
   "source": [
    "# Analyze the evaluation results\n",
    "print(\"Analyzing evaluation results...\")\n",
    "results_df = analyze_evaluation_results(results_dir)\n",
    "\n",
    "# Display the results\n",
    "print(\"\\nEvaluation Results:\")\n",
    "print(results_df)"
   ]
  },
  {
   "cell_type": "code",
   "execution_count": null,
   "metadata": {},
   "outputs": [],
   "source": [
    "# Visualize the results\n",
    "print(\"Creating visualization...\")\n",
    "ax = visualize_evaluation_results(results_df, output_path='evaluation_results_pregenerated.png')\n",
    "plt.show()"
   ]
  },
  {
   "cell_type": "markdown",
   "metadata": {},
   "source": [
    "## 7. Conclusion\n",
    "\n",
    "This notebook demonstrated how to:\n",
    "1. Load the MeetingBank dataset\n",
    "2. Generate model responses using the Converse API\n",
    "3. Create and run a Bedrock evaluation job with pre-generated responses\n",
    "4. Analyze and visualize the evaluation results\n",
    "\n",
    "This approach allows you to evaluate any model, including non-Bedrock models like Gemini Flash, by pre-generating the responses and including them in the evaluation dataset."
   ]
  }
 ],
 "metadata": {
  "kernelspec": {
   "display_name": ".venv",
   "language": "python",
   "name": "python3"
  },
  "language_info": {
   "codemirror_mode": {
    "name": "ipython",
    "version": 3
   },
   "file_extension": ".py",
   "mimetype": "text/x-python",
   "name": "python",
   "nbconvert_exporter": "python",
   "pygments_lexer": "ipython3",
   "version": "3.13.2"
  }
 },
 "nbformat": 4,
 "nbformat_minor": 4
}
