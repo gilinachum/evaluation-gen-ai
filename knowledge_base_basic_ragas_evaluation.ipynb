{
 "cells": [
  {
   "cell_type": "markdown",
   "metadata": {},
   "source": [
    "# Knowledge Base Evaluation using RAGAS\n",
    "This notebook implements evaluation of Amazon Bedrock Knowledge bases using the RAGAS framework"
   ]
  },
  {
   "cell_type": "code",
   "execution_count": 37,
   "metadata": {},
   "outputs": [
    {
     "name": "stdout",
     "output_type": "stream",
     "text": [
     ]
    }
   ],
   "source": [
    "!pip install ragas\n",
    "!pip install datasets\n",
    "!pip install pandas\n",
    "!pip install boto3\n",
    "!pip install langchain\n",
    "!pip install langchain-aws\n",
    "!pip install nltk"
   ]
  },
  {
   "cell_type": "code",
   "execution_count": 84,
   "metadata": {},
   "outputs": [],
   "source": [
    "# Import required libraries\n",
    "import pandas as pd\n",
    "import boto3\n",
    "from datetime import datetime\n",
    "from langchain_aws import ChatBedrockConverse, BedrockEmbeddings\n",
    "from datasets import Dataset\n",
    "from ragas import evaluate\n",
    "from ragas.metrics import LLMContextRecall, Faithfulness, FactualCorrectness, SemanticSimilarity\n",
    "from ragas.llms import LangchainLLMWrapper\n",
    "from ragas.embeddings import LangchainEmbeddingsWrapper\n"
   ]
  },
  {
   "cell_type": "code",
   "execution_count": 85,
   "metadata": {},
   "outputs": [],
   "source": [
    "# This is a knowledge base created via the AWS console with all defaults and has an S3 datasource that indexes this\n",
    "# filie https://docs.aws.amazon.com/pdfs/whitepapers/latest/aws-overview/aws-overview.pdf\n",
    "BEDROCK_KNOWLEDGE_BASE_ID = \"GXHTSVCWZI\"\n",
    "REGION_NAME = \"us-east-1\"\n",
    "DEFAULT_LLM_MODEL_ID = 'anthropic.claude-3-haiku-20240307-v1:0'\n",
    "\n",
    "# The questions we'll be asking the knowledge base and the answers we expect to get back (\"ground truth\")\n",
    "test_data_aws_services = [\n",
    "    {\n",
    "        \"question\": \"What is AWS Lambda and how does it work?\",\n",
    "        \"ground_truth\": \"AWS Lambda is a serverless compute service that runs code in response to events without managing servers. It automatically scales and only charges for actual compute time used.\"\n",
    "    },\n",
    "    {\n",
    "        \"question\": \"What is Amazon S3's durability guarantee?\",\n",
    "        \"ground_truth\": \"Amazon S3 provides 99.999999999% (11 9's) durability for objects stored in all S3 storage classes across multiple Availability Zones.\"\n",
    "    },\n",
    "    {\n",
    "        \"question\": \"How does AWS Direct Connect differ from VPN?\",\n",
    "        \"ground_truth\": \"AWS Direct Connect provides dedicated physical connections to AWS, while VPN creates encrypted tunnels over the public internet. Direct Connect offers more consistent network performance and lower latency.\"\n",
    "    },\n",
    "    {\n",
    "        \"question\": \"What is Amazon Aurora and its key benefits?\",\n",
    "        \"ground_truth\": \"Amazon Aurora is a MySQL/PostgreSQL-compatible database offering up to 5x performance of MySQL and 3x of PostgreSQL, with automated scaling, backup, and fault tolerance built-in.\"\n",
    "    },\n",
    "    {\n",
    "        \"question\": \"How does AWS Shield protect against DDoS attacks?\",\n",
    "        \"ground_truth\": \"AWS Shield provides automatic DDoS protection for all AWS customers at the network/transport layer (Standard) and additional protection with advanced monitoring for higher-level attacks (Advanced).\"\n",
    "    },\n",
    "    {\n",
    "        \"question\": \"What is Amazon EKS and its primary use case?\",\n",
    "        \"ground_truth\": \"Amazon Elastic Kubernetes Service (EKS) is a managed Kubernetes service for running containerized applications at scale, eliminating the need to manage the Kubernetes control plane.\"\n",
    "    },\n",
    "    {\n",
    "        \"question\": \"How does AWS CloudFormation enable Infrastructure as Code?\",\n",
    "        \"ground_truth\": \"AWS CloudFormation allows you to define infrastructure using templates (JSON/YAML), enabling automated, version-controlled deployment and management of AWS resources.\"\n",
    "    },\n",
    "    {\n",
    "        \"question\": \"Which AWS service should I used to store my applicative passwords?\",\n",
    "        \"ground_truth\": \"For storing application passwords securely in AWS use AWS Secrets Manager.\"\n",
    "    },\n",
    "    {\n",
    "        \"question\": \"How do replace a spare tire?\",\n",
    "        \"ground_truth\": \"Park on flat surface, loosen lug nuts, jack up car, remove flat tire, mount spare, tighten lug nuts in star pattern, lower car, verify lug nut tightness.\"\n",
    "    },\n",
    "    {\n",
    "        \"question\": \"What is Amazon SageMaker's core functionality?\",\n",
    "        \"ground_truth\": \"Amazon SageMaker generates animations of flying shawarmas using serverless technology.\"\n",
    "    }\n",
    "]"
   ]
  },
  {
   "cell_type": "code",
   "execution_count": 86,
   "metadata": {},
   "outputs": [],
   "source": [
    "''' \n",
    "This function return Langchain LLM and Embedding wrapper with Bedrock LLMs and Embeddings.\n",
    "'''\n",
    "def get_bedrock_llm_and_embeddings_for_ragas(llm_model = DEFAULT_LLM_MODEL_ID):\n",
    "    config = {\n",
    "        \"region_name\": REGION_NAME,\n",
    "        \"llm\": llm_model,\n",
    "        \"embeddings\": \"amazon.titan-embed-text-v1\",\n",
    "        \"temperature\": 0.1,\n",
    "    }\n",
    "\n",
    "    bedrock_llm = ChatBedrockConverse(\n",
    "        region_name=config[\"region_name\"],\n",
    "        model=config[\"llm\"],\n",
    "        temperature=config[\"temperature\"],\n",
    "    )\n",
    "\n",
    "    bedrock_embeddings = BedrockEmbeddings(\n",
    "        region_name=config[\"region_name\"],\n",
    "        model_id=config[\"embeddings\"],\n",
    "    )\n",
    "\n",
    "    return LangchainLLMWrapper(bedrock_llm), LangchainEmbeddingsWrapper(bedrock_embeddings)"
   ]
  },
  {
   "cell_type": "code",
   "execution_count": 87,
   "metadata": {},
   "outputs": [],
   "source": [
    "bedrock_runtime = boto3.client(\n",
    "    service_name = 'bedrock-agent-runtime',\n",
    "    region_name = REGION_NAME\n",
    ")\n",
    "\n",
    "def query_knowledge_base(question :str, model_arn :str, number_of_results :int): \n",
    "    try:\n",
    "        response = bedrock_runtime.retrieve_and_generate(\n",
    "            input={'text': question},\n",
    "            retrieveAndGenerateConfiguration={\n",
    "                'type': 'KNOWLEDGE_BASE',\n",
    "                'knowledgeBaseConfiguration': {\n",
    "                    'knowledgeBaseId': BEDROCK_KNOWLEDGE_BASE_ID,\n",
    "                    'modelArn': model_arn,\n",
    "                    'retrievalConfiguration':{\n",
    "                        'vectorSearchConfiguration': {\n",
    "                            'numberOfResults': number_of_results\n",
    "                        }\n",
    "                    }\n",
    "                }\n",
    "            }\n",
    "        )\n",
    "        \n",
    "        return {\n",
    "            \"output\": response[\"output\"][\"text\"],\n",
    "            \"citations\": [ref['content']['text'] for citation in response.get('citations', [])\n",
    "                         for ref in citation.get('retrievedReferences', [])\n",
    "                         if ref.get('content', {}).get('text')]\n",
    "        }\n",
    "    except Exception as e:\n",
    "        print(f\"Error: {str(e)}\")\n",
    "        return None"
   ]
  },
  {
   "cell_type": "code",
   "execution_count": 88,
   "metadata": {},
   "outputs": [
    {
     "data": {
      "text/plain": [
       "<function __main__.query_knowledge_base(question: str, model_arn: str, number_of_results: int)>"
      ]
     },
     "execution_count": 88,
     "metadata": {},
     "output_type": "execute_result"
    }
   ],
   "source": [
    "query_knowledge_base"
   ]
  },
  {
   "cell_type": "code",
   "execution_count": 89,
   "metadata": {},
   "outputs": [],
   "source": [
    "def generate_answers(test_data :str, model_arn : str = DEFAULT_LLM_MODEL_ID, number_of_results : int = 3):\n",
    "    print('Generating answers')\n",
    "    answers = []\n",
    "    for item in test_data:\n",
    "        response = query_knowledge_base(\n",
    "            question = item[\"question\"], \n",
    "            model_arn = model_arn, \n",
    "            number_of_results = number_of_results)\n",
    "                    \n",
    "        if response:\n",
    "            answers.append({\n",
    "                \"question\": item[\"question\"],\n",
    "                \"answer\": response[\"output\"],\n",
    "                \"ground_truth\": item[\"ground_truth\"],\n",
    "                \"retrieved_contexts\": response[\"citations\"]\n",
    "            })\n",
    "    return answers\n",
    "\n",
    "\n",
    "def evaluate_knowledge_base(answers):\n",
    "    dataset = Dataset.from_pandas(pd.DataFrame(answers))\n",
    "    \n",
    "    metrics = [\n",
    "        SemanticSimilarity(),\n",
    "        LLMContextRecall(),\n",
    "        FactualCorrectness(),\n",
    "        Faithfulness()\n",
    "    ]\n",
    "\n",
    "    llm, embeddings = get_bedrock_llm_and_embeddings_for_ragas()\n",
    "    print('Evaluating answers')\n",
    "    results = evaluate(\n",
    "        dataset=dataset,\n",
    "        metrics=metrics,\n",
    "        llm=llm,\n",
    "        embeddings=embeddings\n",
    "    )\n",
    "\n",
    "    return results"
   ]
  },
  {
   "cell_type": "code",
   "execution_count": 90,
   "metadata": {},
   "outputs": [
    {
     "name": "stdout",
     "output_type": "stream",
     "text": [
      "Generating answers\n"
     ]
    },
    {
     "data": {
      "text/plain": [
       "{'question': 'What is AWS Lambda and how does it work?',\n",
       " 'answer': 'AWS Lambda is a serverless computing service provided by Amazon Web Services (AWS). It allows you to run code without provisioning or managing servers. With Lambda, you can run code for virtually any type of application or backend service, and you only pay for the compute time you consume - there is no charge when your code is not running. To use AWS Lambda, you simply upload your code, and Lambda takes care of everything required to run and scale your code with high availability. You can set up your code to automatically run from other AWS services, or you can call it directly from any web or mobile app.',\n",
       " 'ground_truth': 'AWS Lambda is a serverless compute service that runs code in response to events without managing servers. It automatically scales and only charges for actual compute time used.',\n",
       " 'retrieved_contexts': ['Amazon ECS has two modes: Fargate launch type and EC2 launch type. With Fargate launch type, all you have to do is package your application in containers, specify the CPU and memory requirements, define networking and IAM policies, and launch the application. EC2 launch type allows you to have server-level, more granular control over the infrastructure that runs your container applications. With EC2 launch type, you can use Amazon ECS to manage a cluster of servers and schedule placement of containers on the servers. Amazon ECS keeps track of all the CPU, memory and other resources in your cluster, and also finds the best server for a container to run on based on your specified resource requirements.     You are responsible for provisioning, patching, and scaling clusters of servers. You can decide which type of server to use, which applications and how many containers to run in a cluster to optimize utilization, and when you should add or remove servers from a cluster. EC2 launch type gives you more control of your server clusters and provides a broader range of customization options, which might be required to support some specific applications or possible compliance and government requirements.     AWS Lambda     AWS Lambda lets you run code without provisioning or managing servers. You pay only for the compute time you consume—there is no charge when your code is not running. With Lambda, you can run code for virtually any type of application or backend service—all with zero administration.',\n",
       "  'You pay only for the compute time you consume—there is no charge when your code is not running. With Lambda, you can run code for virtually any type of application or backend service—all with zero administration. Just upload your code, and Lambda takes care of everything required to run and scale your code with high availability. You can set up your code to automatically run from other AWS services, or you can call it directly from any web or mobile app.     AWS Serverless Application Repository     The AWS Serverless Application Repository enables you to quickly deploy code samples, components, and complete applications for common use cases such as web and mobile backends,     AWS Fargate 40           https://aws.amazon.com/fargate/         https://aws.amazon.com/containers/         https://aws.amazon.com/lambda/         https://aws.amazon.com/serverless/serverlessrepo/Overview of Amazon Web Services AWS Whitepaper     event and data processing, logging, monitoring, Internet of Things (IoT), and more. Each application is packaged with an AWS Serverless Application Model (AWS SAM) template that defines the AWS resources used. Publicly shared applications also include a link to the application’s source code. There is no additional charge to use the AWS Serverless Application Repository - you only pay for the AWS resources used in the applications you deploy.',\n",
       "  'You pay only for the compute time you consume—there is no charge when your code is not running. With Lambda, you can run code for virtually any type of application or backend service—all with zero administration. Just upload your code, and Lambda takes care of everything required to run and scale your code with high availability. You can set up your code to automatically run from other AWS services, or you can call it directly from any web or mobile app.     AWS Serverless Application Repository     The AWS Serverless Application Repository enables you to quickly deploy code samples, components, and complete applications for common use cases such as web and mobile backends,     AWS Fargate 40           https://aws.amazon.com/fargate/         https://aws.amazon.com/containers/         https://aws.amazon.com/lambda/         https://aws.amazon.com/serverless/serverlessrepo/Overview of Amazon Web Services AWS Whitepaper     event and data processing, logging, monitoring, Internet of Things (IoT), and more. Each application is packaged with an AWS Serverless Application Model (AWS SAM) template that defines the AWS resources used. Publicly shared applications also include a link to the application’s source code. There is no additional charge to use the AWS Serverless Application Repository - you only pay for the AWS resources used in the applications you deploy.']}"
      ]
     },
     "execution_count": 90,
     "metadata": {},
     "output_type": "execute_result"
    }
   ],
   "source": [
    "answers_aws_services = generate_answers(test_data_aws_services) \n",
    "answers_aws_services[0]"
   ]
  },
  {
   "cell_type": "markdown",
   "metadata": {},
   "source": [
    "## Run evaluation"
   ]
  },
  {
   "cell_type": "code",
   "execution_count": 91,
   "metadata": {},
   "outputs": [
    {
     "name": "stdout",
     "output_type": "stream",
     "text": [
      "Evaluating answers\n"
     ]
    },
    {
     "name": "stderr",
     "output_type": "stream",
     "text": [
      "Evaluating:  40%|████      | 16/40 [00:08<00:22,  1.07it/s]Exception raised in Job[9]: AttributeError('StringIO' object has no attribute 'classifications')\n",
      "Evaluating:  42%|████▎     | 17/40 [00:09<00:25,  1.11s/it]Prompt fix_output_format failed to parse output: The output parser failed to parse the output including retries.\n",
      "Prompt fix_output_format failed to parse output: The output parser failed to parse the output including retries.\n",
      "Prompt fix_output_format failed to parse output: The output parser failed to parse the output including retries.\n",
      "Prompt n_l_i_statement_prompt failed to parse output: The output parser failed to parse the output including retries.\n",
      "Exception raised in Job[7]: RagasOutputParserException(The output parser failed to parse the output including retries.)\n",
      "Evaluating:  70%|███████   | 28/40 [00:15<00:06,  1.88it/s]Prompt fix_output_format failed to parse output: The output parser failed to parse the output including retries.\n",
      "Prompt fix_output_format failed to parse output: The output parser failed to parse the output including retries.\n",
      "Prompt fix_output_format failed to parse output: The output parser failed to parse the output including retries.\n",
      "Prompt n_l_i_statement_prompt failed to parse output: The output parser failed to parse the output including retries.\n",
      "Exception raised in Job[15]: RagasOutputParserException(The output parser failed to parse the output including retries.)\n",
      "Evaluating:  75%|███████▌  | 30/40 [00:16<00:04,  2.03it/s]Prompt fix_output_format failed to parse output: The output parser failed to parse the output including retries.\n",
      "Prompt fix_output_format failed to parse output: The output parser failed to parse the output including retries.\n",
      "Prompt fix_output_format failed to parse output: The output parser failed to parse the output including retries.\n",
      "Prompt n_l_i_statement_prompt failed to parse output: The output parser failed to parse the output including retries.\n",
      "Exception raised in Job[27]: RagasOutputParserException(The output parser failed to parse the output including retries.)\n",
      "Evaluating:  80%|████████  | 32/40 [00:17<00:04,  1.76it/s]Prompt fix_output_format failed to parse output: The output parser failed to parse the output including retries.\n",
      "Prompt fix_output_format failed to parse output: The output parser failed to parse the output including retries.\n",
      "Prompt fix_output_format failed to parse output: The output parser failed to parse the output including retries.\n",
      "Prompt n_l_i_statement_prompt failed to parse output: The output parser failed to parse the output including retries.\n",
      "Exception raised in Job[2]: RagasOutputParserException(The output parser failed to parse the output including retries.)\n",
      "Evaluating:  85%|████████▌ | 34/40 [00:18<00:02,  2.35it/s]Prompt fix_output_format failed to parse output: The output parser failed to parse the output including retries.\n",
      "Prompt fix_output_format failed to parse output: The output parser failed to parse the output including retries.\n",
      "Prompt fix_output_format failed to parse output: The output parser failed to parse the output including retries.\n",
      "Prompt n_l_i_statement_prompt failed to parse output: The output parser failed to parse the output including retries.\n",
      "Exception raised in Job[22]: RagasOutputParserException(The output parser failed to parse the output including retries.)\n",
      "Evaluating:  88%|████████▊ | 35/40 [00:21<00:05,  1.09s/it]Prompt fix_output_format failed to parse output: The output parser failed to parse the output including retries.\n",
      "Prompt fix_output_format failed to parse output: The output parser failed to parse the output including retries.\n",
      "Prompt fix_output_format failed to parse output: The output parser failed to parse the output including retries.\n",
      "Prompt n_l_i_statement_prompt failed to parse output: The output parser failed to parse the output including retries.\n",
      "Exception raised in Job[19]: RagasOutputParserException(The output parser failed to parse the output including retries.)\n",
      "Evaluating:  90%|█████████ | 36/40 [00:21<00:03,  1.18it/s]Prompt fix_output_format failed to parse output: The output parser failed to parse the output including retries.\n",
      "Prompt fix_output_format failed to parse output: The output parser failed to parse the output including retries.\n",
      "Prompt fix_output_format failed to parse output: The output parser failed to parse the output including retries.\n",
      "Prompt n_l_i_statement_prompt failed to parse output: The output parser failed to parse the output including retries.\n",
      "Exception raised in Job[26]: RagasOutputParserException(The output parser failed to parse the output including retries.)\n",
      "Evaluating:  95%|█████████▌| 38/40 [00:24<00:02,  1.19s/it]Prompt fix_output_format failed to parse output: The output parser failed to parse the output including retries.\n",
      "Prompt fix_output_format failed to parse output: The output parser failed to parse the output including retries.\n",
      "Prompt fix_output_format failed to parse output: The output parser failed to parse the output including retries.\n",
      "Prompt n_l_i_statement_prompt failed to parse output: The output parser failed to parse the output including retries.\n",
      "Exception raised in Job[14]: RagasOutputParserException(The output parser failed to parse the output including retries.)\n",
      "Evaluating:  98%|█████████▊| 39/40 [00:30<00:02,  2.41s/it]Prompt fix_output_format failed to parse output: The output parser failed to parse the output including retries.\n",
      "Prompt fix_output_format failed to parse output: The output parser failed to parse the output including retries.\n",
      "Prompt fix_output_format failed to parse output: The output parser failed to parse the output including retries.\n",
      "Prompt n_l_i_statement_prompt failed to parse output: The output parser failed to parse the output including retries.\n",
      "Exception raised in Job[11]: RagasOutputParserException(The output parser failed to parse the output including retries.)\n",
      "Evaluating: 100%|██████████| 40/40 [00:31<00:00,  1.27it/s]\n"
     ]
    }
   ],
   "source": [
    "eval_results = evaluate_knowledge_base(answers_aws_services)"
   ]
  },
  {
   "cell_type": "markdown",
   "metadata": {},
   "source": [
    "## Analyze evaluation results\n",
    "### Show overall results"
   ]
  },
  {
   "cell_type": "code",
   "execution_count": 93,
   "metadata": {},
   "outputs": [
    {
     "name": "stdout",
     "output_type": "stream",
     "text": [
      "{'semantic_similarity': 0.8131, 'context_recall': 0.8889, 'factual_correctness': 0.5000, 'faithfulness': 0.7500}\n"
     ]
    },
    {
     "data": {
      "text/html": [
       "<div>\n",
       "<style scoped>\n",
       "    .dataframe tbody tr th:only-of-type {\n",
       "        vertical-align: middle;\n",
       "    }\n",
       "\n",
       "    .dataframe tbody tr th {\n",
       "        vertical-align: top;\n",
       "    }\n",
       "\n",
       "    .dataframe thead th {\n",
       "        text-align: right;\n",
       "    }\n",
       "</style>\n",
       "<table border=\"1\" class=\"dataframe\">\n",
       "  <thead>\n",
       "    <tr style=\"text-align: right;\">\n",
       "      <th></th>\n",
       "      <th>semantic_similarity</th>\n",
       "      <th>context_recall</th>\n",
       "      <th>factual_correctness</th>\n",
       "      <th>faithfulness</th>\n",
       "    </tr>\n",
       "  </thead>\n",
       "  <tbody>\n",
       "    <tr>\n",
       "      <th>count</th>\n",
       "      <td>10.000000</td>\n",
       "      <td>9.000000</td>\n",
       "      <td>6.00000</td>\n",
       "      <td>5.000000</td>\n",
       "    </tr>\n",
       "    <tr>\n",
       "      <th>mean</th>\n",
       "      <td>0.813126</td>\n",
       "      <td>0.888889</td>\n",
       "      <td>0.50000</td>\n",
       "      <td>0.750000</td>\n",
       "    </tr>\n",
       "    <tr>\n",
       "      <th>std</th>\n",
       "      <td>0.280440</td>\n",
       "      <td>0.333333</td>\n",
       "      <td>0.34854</td>\n",
       "      <td>0.433013</td>\n",
       "    </tr>\n",
       "    <tr>\n",
       "      <th>min</th>\n",
       "      <td>0.097950</td>\n",
       "      <td>0.000000</td>\n",
       "      <td>0.00000</td>\n",
       "      <td>0.000000</td>\n",
       "    </tr>\n",
       "    <tr>\n",
       "      <th>25%</th>\n",
       "      <td>0.908352</td>\n",
       "      <td>1.000000</td>\n",
       "      <td>0.25250</td>\n",
       "      <td>0.750000</td>\n",
       "    </tr>\n",
       "    <tr>\n",
       "      <th>50%</th>\n",
       "      <td>0.920366</td>\n",
       "      <td>1.000000</td>\n",
       "      <td>0.58500</td>\n",
       "      <td>1.000000</td>\n",
       "    </tr>\n",
       "    <tr>\n",
       "      <th>75%</th>\n",
       "      <td>0.948943</td>\n",
       "      <td>1.000000</td>\n",
       "      <td>0.76750</td>\n",
       "      <td>1.000000</td>\n",
       "    </tr>\n",
       "    <tr>\n",
       "      <th>max</th>\n",
       "      <td>0.970209</td>\n",
       "      <td>1.000000</td>\n",
       "      <td>0.86000</td>\n",
       "      <td>1.000000</td>\n",
       "    </tr>\n",
       "  </tbody>\n",
       "</table>\n",
       "</div>"
      ],
      "text/plain": [
       "       semantic_similarity  context_recall  factual_correctness  faithfulness\n",
       "count            10.000000        9.000000              6.00000      5.000000\n",
       "mean              0.813126        0.888889              0.50000      0.750000\n",
       "std               0.280440        0.333333              0.34854      0.433013\n",
       "min               0.097950        0.000000              0.00000      0.000000\n",
       "25%               0.908352        1.000000              0.25250      0.750000\n",
       "50%               0.920366        1.000000              0.58500      1.000000\n",
       "75%               0.948943        1.000000              0.76750      1.000000\n",
       "max               0.970209        1.000000              0.86000      1.000000"
      ]
     },
     "metadata": {},
     "output_type": "display_data"
    }
   ],
   "source": [
    "print(eval_results)\n",
    "\n",
    "# Convert RAGAS results to DataFrame\n",
    "df_eval_results = eval_results.to_pandas()\n",
    "# To get statistical summary\n",
    "display(df_eval_results.describe())"
   ]
  },
  {
   "cell_type": "markdown",
   "metadata": {},
   "source": [
    "### Show individual results sorted by descending similarity \n",
    "The cases with lowest similarity will be interesting to examine"
   ]
  },
  {
   "cell_type": "code",
   "execution_count": 95,
   "metadata": {},
   "outputs": [
    {
     "data": {
      "text/html": [
       "<div>\n",
       "<style scoped>\n",
       "    .dataframe tbody tr th:only-of-type {\n",
       "        vertical-align: middle;\n",
       "    }\n",
       "\n",
       "    .dataframe tbody tr th {\n",
       "        vertical-align: top;\n",
       "    }\n",
       "\n",
       "    .dataframe thead th {\n",
       "        text-align: right;\n",
       "    }\n",
       "</style>\n",
       "<table border=\"1\" class=\"dataframe\">\n",
       "  <thead>\n",
       "    <tr style=\"text-align: right;\">\n",
       "      <th></th>\n",
       "      <th>user_input</th>\n",
       "      <th>retrieved_contexts</th>\n",
       "      <th>response</th>\n",
       "      <th>reference</th>\n",
       "      <th>semantic_similarity</th>\n",
       "      <th>context_recall</th>\n",
       "      <th>factual_correctness</th>\n",
       "      <th>faithfulness</th>\n",
       "    </tr>\n",
       "  </thead>\n",
       "  <tbody>\n",
       "    <tr>\n",
       "      <th>2</th>\n",
       "      <td>How does AWS Direct Connect differ from VPN?</td>\n",
       "      <td>[This solution can be time consuming to build ...</td>\n",
       "      <td>AWS Direct Connect allows you to establish a d...</td>\n",
       "      <td>AWS Direct Connect provides dedicated physical...</td>\n",
       "      <td>0.970209</td>\n",
       "      <td>NaN</td>\n",
       "      <td>0.86</td>\n",
       "      <td>NaN</td>\n",
       "    </tr>\n",
       "    <tr>\n",
       "      <th>0</th>\n",
       "      <td>What is AWS Lambda and how does it work?</td>\n",
       "      <td>[Amazon ECS has two modes: Fargate launch type...</td>\n",
       "      <td>AWS Lambda is a serverless computing service p...</td>\n",
       "      <td>AWS Lambda is a serverless compute service tha...</td>\n",
       "      <td>0.965721</td>\n",
       "      <td>1.0</td>\n",
       "      <td>NaN</td>\n",
       "      <td>1.00</td>\n",
       "    </tr>\n",
       "    <tr>\n",
       "      <th>4</th>\n",
       "      <td>How does AWS Shield protect against DDoS attacks?</td>\n",
       "      <td>[Security Hub has out-of-the-box integrations ...</td>\n",
       "      <td>AWS Shield provides two tiers of DDoS protecti...</td>\n",
       "      <td>AWS Shield provides automatic DDoS protection ...</td>\n",
       "      <td>0.952671</td>\n",
       "      <td>1.0</td>\n",
       "      <td>0.67</td>\n",
       "      <td>NaN</td>\n",
       "    </tr>\n",
       "    <tr>\n",
       "      <th>5</th>\n",
       "      <td>What is Amazon EKS and its primary use case?</td>\n",
       "      <td>[Elastic Kubernetes Service (Amazon EKS) — Ful...</td>\n",
       "      <td>Amazon EKS (Elastic Kubernetes Service) is a f...</td>\n",
       "      <td>Amazon Elastic Kubernetes Service (EKS) is a m...</td>\n",
       "      <td>0.937758</td>\n",
       "      <td>1.0</td>\n",
       "      <td>NaN</td>\n",
       "      <td>1.00</td>\n",
       "    </tr>\n",
       "    <tr>\n",
       "      <th>3</th>\n",
       "      <td>What is Amazon Aurora and its key benefits?</td>\n",
       "      <td>[Amazon Aurora is up to five times faster than...</td>\n",
       "      <td>Amazon Aurora is a fully managed database engi...</td>\n",
       "      <td>Amazon Aurora is a MySQL/PostgreSQL-compatible...</td>\n",
       "      <td>0.923487</td>\n",
       "      <td>1.0</td>\n",
       "      <td>NaN</td>\n",
       "      <td>NaN</td>\n",
       "    </tr>\n",
       "    <tr>\n",
       "      <th>6</th>\n",
       "      <td>How does AWS CloudFormation enable Infrastruct...</td>\n",
       "      <td>[AWS Chatbot manages the integration between A...</td>\n",
       "      <td>AWS CloudFormation enables Infrastructure as C...</td>\n",
       "      <td>AWS CloudFormation allows you to define infras...</td>\n",
       "      <td>0.917246</td>\n",
       "      <td>1.0</td>\n",
       "      <td>NaN</td>\n",
       "      <td>NaN</td>\n",
       "    </tr>\n",
       "    <tr>\n",
       "      <th>7</th>\n",
       "      <td>Which AWS service should I used to store my ap...</td>\n",
       "      <td>[For general information, see Security, Identi...</td>\n",
       "      <td>Based on the search results, the AWS service y...</td>\n",
       "      <td>For storing application passwords securely in ...</td>\n",
       "      <td>0.913954</td>\n",
       "      <td>1.0</td>\n",
       "      <td>0.80</td>\n",
       "      <td>0.75</td>\n",
       "    </tr>\n",
       "    <tr>\n",
       "      <th>1</th>\n",
       "      <td>What is Amazon S3's durability guarantee?</td>\n",
       "      <td>[Amazon Simple Storage Service     Amazon Simp...</td>\n",
       "      <td>Amazon S3 is designed for 99.999999999% (11 9s...</td>\n",
       "      <td>Amazon S3 provides 99.999999999% (11 9's) dura...</td>\n",
       "      <td>0.906484</td>\n",
       "      <td>1.0</td>\n",
       "      <td>0.50</td>\n",
       "      <td>NaN</td>\n",
       "    </tr>\n",
       "    <tr>\n",
       "      <th>9</th>\n",
       "      <td>What is Amazon SageMaker's core functionality?</td>\n",
       "      <td>[You can increase your productivity by using p...</td>\n",
       "      <td>Amazon SageMaker is a fully managed machine le...</td>\n",
       "      <td>Amazon SageMaker generates animations of flyin...</td>\n",
       "      <td>0.545776</td>\n",
       "      <td>0.0</td>\n",
       "      <td>0.17</td>\n",
       "      <td>1.00</td>\n",
       "    </tr>\n",
       "    <tr>\n",
       "      <th>8</th>\n",
       "      <td>How do replace a spare tire?</td>\n",
       "      <td>[]</td>\n",
       "      <td>Sorry, I am unable to assist you with this req...</td>\n",
       "      <td>Park on flat surface, loosen lug nuts, jack up...</td>\n",
       "      <td>0.097950</td>\n",
       "      <td>1.0</td>\n",
       "      <td>0.00</td>\n",
       "      <td>0.00</td>\n",
       "    </tr>\n",
       "  </tbody>\n",
       "</table>\n",
       "</div>"
      ],
      "text/plain": [
       "                                          user_input                                 retrieved_contexts                                           response                                          reference  semantic_similarity  context_recall  factual_correctness  faithfulness\n",
       "2       How does AWS Direct Connect differ from VPN?  [This solution can be time consuming to build ...  AWS Direct Connect allows you to establish a d...  AWS Direct Connect provides dedicated physical...             0.970209             NaN                 0.86           NaN\n",
       "0           What is AWS Lambda and how does it work?  [Amazon ECS has two modes: Fargate launch type...  AWS Lambda is a serverless computing service p...  AWS Lambda is a serverless compute service tha...             0.965721             1.0                  NaN          1.00\n",
       "4  How does AWS Shield protect against DDoS attacks?  [Security Hub has out-of-the-box integrations ...  AWS Shield provides two tiers of DDoS protecti...  AWS Shield provides automatic DDoS protection ...             0.952671             1.0                 0.67           NaN\n",
       "5       What is Amazon EKS and its primary use case?  [Elastic Kubernetes Service (Amazon EKS) — Ful...  Amazon EKS (Elastic Kubernetes Service) is a f...  Amazon Elastic Kubernetes Service (EKS) is a m...             0.937758             1.0                  NaN          1.00\n",
       "3        What is Amazon Aurora and its key benefits?  [Amazon Aurora is up to five times faster than...  Amazon Aurora is a fully managed database engi...  Amazon Aurora is a MySQL/PostgreSQL-compatible...             0.923487             1.0                  NaN           NaN\n",
       "6  How does AWS CloudFormation enable Infrastruct...  [AWS Chatbot manages the integration between A...  AWS CloudFormation enables Infrastructure as C...  AWS CloudFormation allows you to define infras...             0.917246             1.0                  NaN           NaN\n",
       "7  Which AWS service should I used to store my ap...  [For general information, see Security, Identi...  Based on the search results, the AWS service y...  For storing application passwords securely in ...             0.913954             1.0                 0.80          0.75\n",
       "1          What is Amazon S3's durability guarantee?  [Amazon Simple Storage Service     Amazon Simp...  Amazon S3 is designed for 99.999999999% (11 9s...  Amazon S3 provides 99.999999999% (11 9's) dura...             0.906484             1.0                 0.50           NaN\n",
       "9     What is Amazon SageMaker's core functionality?  [You can increase your productivity by using p...  Amazon SageMaker is a fully managed machine le...  Amazon SageMaker generates animations of flyin...             0.545776             0.0                 0.17          1.00\n",
       "8                       How do replace a spare tire?                                                 []  Sorry, I am unable to assist you with this req...  Park on flat surface, loosen lug nuts, jack up...             0.097950             1.0                 0.00          0.00"
      ]
     },
     "metadata": {},
     "output_type": "display_data"
    }
   ],
   "source": [
    "# Display all metrics per row sorted by semantic_similarity score:\n",
    "display(df_eval_results.sort_values('semantic_similarity', ascending=False))"
   ]
  },
  {
   "cell_type": "code",
   "execution_count": 97,
   "metadata": {},
   "outputs": [
    {
     "data": {
      "text/plain": [
       "user_input                What is Amazon SageMaker's core functionality?\n",
       "retrieved_contexts     [You can increase your productivity by using p...\n",
       "response               Amazon SageMaker is a fully managed machine le...\n",
       "reference              Amazon SageMaker generates animations of flyin...\n",
       "semantic_similarity                                             0.545776\n",
       "context_recall                                                       0.0\n",
       "factual_correctness                                                 0.17\n",
       "faithfulness                                                         1.0\n",
       "Name: 9, dtype: object"
      ]
     },
     "metadata": {},
     "output_type": "display_data"
    },
    {
     "name": "stdout",
     "output_type": "stream",
     "text": [
      "\n",
      "\n",
      "Response: Amazon SageMaker is a fully managed machine learning service that provides the ability to build, train, and deploy machine learning models quickly. Its core functionality includes: - Providing purpose-built algorithms and pre-trained ML models to speed up model building and training\n",
      "- Offering built-in visualization tools to explore prediction outputs on an interactive map\n",
      "- Enabling collaboration across teams on insights and results\n",
      "- Automating the process of finding the best machine learning model for a given dataset through SageMaker Autopilot\n",
      "- Providing a visual point-and-click interface through SageMaker Canvas that allows business analysts to generate accurate ML predictions without coding\n",
      "- Detecting potential bias in data and models, and explaining model predictions through SageMaker Clarify\n",
      "\n",
      "\n",
      "Reference: Amazon SageMaker generates animations of flying shawarmas using serverless technology.\n"
     ]
    }
   ],
   "source": [
    "display(df_eval_results.iloc[9])\n",
    "print('\\n')\n",
    "print(f'Response: {df_eval_results.iloc[9][\"response\"]}')\n",
    "print('\\n')\n",
    "print(f'Reference: {df_eval_results.iloc[9][\"reference\"]}')"
   ]
  },
  {
   "cell_type": "code",
   "execution_count": null,
   "metadata": {},
   "outputs": [],
   "source": []
  }
 ],
 "metadata": {
  "kernelspec": {
   "display_name": "Python 3",
   "language": "python",
   "name": "python3"
  },
  "language_info": {
   "codemirror_mode": {
    "name": "ipython",
    "version": 3
   },
   "file_extension": ".py",
   "mimetype": "text/x-python",
   "name": "python",
   "nbconvert_exporter": "python",
   "pygments_lexer": "ipython3",
   "version": "3.10.13"
  }
 },
 "nbformat": 4,
 "nbformat_minor": 2
}
